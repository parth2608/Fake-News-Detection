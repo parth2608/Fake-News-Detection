{
  "nbformat": 4,
  "nbformat_minor": 0,
  "metadata": {
    "colab": {
      "name": "RNN.ipynb",
      "provenance": [],
      "collapsed_sections": []
    },
    "kernelspec": {
      "name": "python3",
      "display_name": "Python 3"
    },
    "language_info": {
      "name": "python"
    }
  },
  "cells": [
    {
      "cell_type": "markdown",
      "source": [
        "# Importing Libraries"
      ],
      "metadata": {
        "id": "6Ogc6B2DA0vp"
      }
    },
    {
      "cell_type": "code",
      "execution_count": null,
      "metadata": {
        "id": "UkZd-bcKWptL"
      },
      "outputs": [],
      "source": [
        "import pandas as pd \n",
        "import matplotlib.pyplot as plt \n",
        "import numpy as np \n",
        "import tensorflow as tf \n",
        "import re \n",
        "from tensorflow.keras.preprocessing.text import Tokenizer\n",
        "import tensorflow as tf\n",
        "from sklearn.metrics import accuracy_score\n",
        "from sklearn.model_selection import train_test_split\n",
        "from sklearn.metrics import accuracy_score, confusion_matrix, precision_score, recall_score\n",
        "import seaborn as sns \n",
        "plt.style.use('ggplot')"
      ]
    },
    {
      "cell_type": "markdown",
      "source": [
        "# Importing dataset"
      ],
      "metadata": {
        "id": "sHKnR_y1A4Wg"
      }
    },
    {
      "cell_type": "code",
      "source": [
        "from google.colab import drive\n",
        "drive.mount('/content/gdrive')"
      ],
      "metadata": {
        "colab": {
          "base_uri": "https://localhost:8080/"
        },
        "id": "5THCGt-VWxZ7",
        "outputId": "38551d70-165b-4cf0-e744-bac02ffe20bf"
      },
      "execution_count": null,
      "outputs": [
        {
          "output_type": "stream",
          "name": "stdout",
          "text": [
            "Mounted at /content/gdrive\n"
          ]
        }
      ]
    },
    {
      "cell_type": "code",
      "source": [
        "real_df = pd.read_csv(\"/content/gdrive/My Drive/NLP/Dataset/True.csv\")\n",
        "fake_df = pd.read_csv(\"/content/gdrive/My Drive/NLP/Dataset/Fake.csv\")"
      ],
      "metadata": {
        "id": "McKxHqyeWxwx"
      },
      "execution_count": null,
      "outputs": []
    },
    {
      "cell_type": "markdown",
      "source": [
        "# Data Visualization and Pre-processing"
      ],
      "metadata": {
        "id": "OHnhoPEMA_ZW"
      }
    },
    {
      "cell_type": "code",
      "source": [
        "fake_df.isnull().sum()"
      ],
      "metadata": {
        "colab": {
          "base_uri": "https://localhost:8080/"
        },
        "id": "eO73mvhdWyA4",
        "outputId": "ee2414f7-f754-46e6-f5a6-495373e76525"
      },
      "execution_count": null,
      "outputs": [
        {
          "output_type": "execute_result",
          "data": {
            "text/plain": [
              "title      0\n",
              "text       0\n",
              "subject    0\n",
              "date       0\n",
              "dtype: int64"
            ]
          },
          "metadata": {},
          "execution_count": 4
        }
      ]
    },
    {
      "cell_type": "code",
      "source": [
        "real_df.isnull().sum()"
      ],
      "metadata": {
        "colab": {
          "base_uri": "https://localhost:8080/"
        },
        "id": "uO66uUoTWyhz",
        "outputId": "c315715e-0424-442f-caa7-a915beeba864"
      },
      "execution_count": null,
      "outputs": [
        {
          "output_type": "execute_result",
          "data": {
            "text/plain": [
              "title      0\n",
              "text       0\n",
              "subject    0\n",
              "date       0\n",
              "dtype: int64"
            ]
          },
          "metadata": {},
          "execution_count": 5
        }
      ]
    },
    {
      "cell_type": "code",
      "source": [
        "fake_df.subject.unique()"
      ],
      "metadata": {
        "colab": {
          "base_uri": "https://localhost:8080/"
        },
        "id": "8eziK2zQWyzL",
        "outputId": "9c34388d-ffa1-4098-8b85-621f02408d71"
      },
      "execution_count": null,
      "outputs": [
        {
          "output_type": "execute_result",
          "data": {
            "text/plain": [
              "array(['News', 'politics', 'Government News', 'left-news', 'US_News',\n",
              "       'Middle-east'], dtype=object)"
            ]
          },
          "metadata": {},
          "execution_count": 6
        }
      ]
    },
    {
      "cell_type": "code",
      "source": [
        "real_df.subject.unique()"
      ],
      "metadata": {
        "colab": {
          "base_uri": "https://localhost:8080/"
        },
        "id": "OPu-1AU8WzCX",
        "outputId": "b2c7583a-8ecb-4d88-afce-22f5bfe17942"
      },
      "execution_count": null,
      "outputs": [
        {
          "output_type": "execute_result",
          "data": {
            "text/plain": [
              "array(['politicsNews', 'worldnews'], dtype=object)"
            ]
          },
          "metadata": {},
          "execution_count": 7
        }
      ]
    },
    {
      "cell_type": "code",
      "source": [
        "fake_df.drop(['date', 'subject'], axis=1, inplace=True)\n",
        "real_df.drop(['date', 'subject'], axis=1, inplace=True)"
      ],
      "metadata": {
        "id": "8Z0U99FXWzSB"
      },
      "execution_count": null,
      "outputs": []
    },
    {
      "cell_type": "code",
      "source": [
        "fake_df['class'] = 0 \n",
        "real_df['class'] = 1"
      ],
      "metadata": {
        "id": "yKFWxvv9WziI"
      },
      "execution_count": null,
      "outputs": []
    },
    {
      "cell_type": "code",
      "source": [
        "plt.figure(figsize=(10, 5))\n",
        "plt.bar('Fake News', len(fake_df), color='orange')\n",
        "plt.bar('Real News', len(real_df), color='green')\n",
        "plt.title('Distribution of Fake News and Real News', size=15)\n",
        "plt.xlabel('News Type', size=15)\n",
        "plt.ylabel('# of News Articles', size=15)\n",
        "\n",
        "\n",
        "total_len = len(fake_df) + len(real_df)\n",
        "plt.figure(figsize=(10, 5))\n",
        "plt.bar('Fake News', len(fake_df) / total_len, color='orange')\n",
        "plt.bar('Real News', len(real_df) / total_len, color='green')\n",
        "plt.title('Distribution of Fake News and Real News', size=15)\n",
        "plt.xlabel('News Type', size=15)\n",
        "plt.ylabel('Proportion of News Articles', size=15)"
      ],
      "metadata": {
        "colab": {
          "base_uri": "https://localhost:8080/",
          "height": 715
        },
        "id": "yR5X-dhCWzxo",
        "outputId": "33639af0-1b77-41df-ffc6-8c6516f604af"
      },
      "execution_count": null,
      "outputs": [
        {
          "output_type": "execute_result",
          "data": {
            "text/plain": [
              "Text(0, 0.5, 'Proportion of News Articles')"
            ]
          },
          "metadata": {},
          "execution_count": 10
        },
        {
          "output_type": "display_data",
          "data": {
            "text/plain": [
              "<Figure size 720x360 with 1 Axes>"
            ],
            "image/png": "[encoded data removed]"
          },
          "metadata": {
            "needs_background": "light"
          }
        },
        {
          "output_type": "display_data",
          "data": {
            "text/plain": [
              "<Figure size 720x360 with 1 Axes>"
            ],
            "image/png": "[encoded data removed]"
          },
          "metadata": {
            "needs_background": "light"
          }
        }
      ]
    },
    {
      "cell_type": "code",
      "source": [
        "print('Difference in news articles:',len(fake_df)-len(real_df))"
      ],
      "metadata": {
        "colab": {
          "base_uri": "https://localhost:8080/"
        },
        "id": "WqnpCPJPW0Bo",
        "outputId": "168c105d-f6fb-420c-ca9e-24272c5b13cf"
      },
      "execution_count": null,
      "outputs": [
        {
          "output_type": "stream",
          "name": "stdout",
          "text": [
            "Difference in news articles: 2064\n"
          ]
        }
      ]
    },
    {
      "cell_type": "code",
      "source": [
        "news_df = pd.concat([fake_df, real_df], ignore_index=True, sort=False)\n",
        "news_df"
      ],
      "metadata": {
        "colab": {
          "base_uri": "https://localhost:8080/",
          "height": 424
        },
        "id": "UoBJI2tsW0U7",
        "outputId": "6067203e-2ab3-4755-e0c4-9b36996e2379"
      },
      "execution_count": null,
      "outputs": [
        {
          "output_type": "execute_result",
          "data": {
            "text/plain": [
              "                                                   title  \\\n",
              "0       Donald Trump Sends Out Embarrassing New Year’...   \n",
              "1       Drunk Bragging Trump Staffer Started Russian ...   \n",
              "2       Sheriff David Clarke Becomes An Internet Joke...   \n",
              "3       Trump Is So Obsessed He Even Has Obama’s Name...   \n",
              "4       Pope Francis Just Called Out Donald Trump Dur...   \n",
              "...                                                  ...   \n",
              "44893  'Fully committed' NATO backs new U.S. approach...   \n",
              "44894  LexisNexis withdrew two products from Chinese ...   \n",
              "44895  Minsk cultural hub becomes haven from authorities   \n",
              "44896  Vatican upbeat on possibility of Pope Francis ...   \n",
              "44897  Indonesia to buy $1.14 billion worth of Russia...   \n",
              "\n",
              "                                                    text  class  \n",
              "0      Donald Trump just couldn t wish all Americans ...      0  \n",
              "1      House Intelligence Committee Chairman Devin Nu...      0  \n",
              "2      On Friday, it was revealed that former Milwauk...      0  \n",
              "3      On Christmas day, Donald Trump announced that ...      0  \n",
              "4      Pope Francis used his annual Christmas Day mes...      0  \n",
              "...                                                  ...    ...  \n",
              "44893  BRUSSELS (Reuters) - NATO allies on Tuesday we...      1  \n",
              "44894  LONDON (Reuters) - LexisNexis, a provider of l...      1  \n",
              "44895  MINSK (Reuters) - In the shadow of disused Sov...      1  \n",
              "44896  MOSCOW (Reuters) - Vatican Secretary of State ...      1  \n",
              "44897  JAKARTA (Reuters) - Indonesia will buy 11 Sukh...      1  \n",
              "\n",
              "[44898 rows x 3 columns]"
            ],
            "text/html": [
              "\n",
              "  <div id=\"df-6acc3c12-67b2-4011-b1eb-2b81c5533906\">\n",
              "    <div class=\"colab-df-container\">\n",
              "      <div>\n",
              "<style scoped>\n",
              "    .dataframe tbody tr th:only-of-type {\n",
              "        vertical-align: middle;\n",
              "    }\n",
              "\n",
              "    .dataframe tbody tr th {\n",
              "        vertical-align: top;\n",
              "    }\n",
              "\n",
              "    .dataframe thead th {\n",
              "        text-align: right;\n",
              "    }\n",
              "</style>\n",
              "<table border=\"1\" class=\"dataframe\">\n",
              "  <thead>\n",
              "    <tr style=\"text-align: right;\">\n",
              "      <th></th>\n",
              "      <th>title</th>\n",
              "      <th>text</th>\n",
              "      <th>class</th>\n",
              "    </tr>\n",
              "  </thead>\n",
              "  <tbody>\n",
              "    <tr>\n",
              "      <th>0</th>\n",
              "      <td>Donald Trump Sends Out Embarrassing New Year’...</td>\n",
              "      <td>Donald Trump just couldn t wish all Americans ...</td>\n",
              "      <td>0</td>\n",
              "    </tr>\n",
              "    <tr>\n",
              "      <th>1</th>\n",
              "      <td>Drunk Bragging Trump Staffer Started Russian ...</td>\n",
              "      <td>House Intelligence Committee Chairman Devin Nu...</td>\n",
              "      <td>0</td>\n",
              "    </tr>\n",
              "    <tr>\n",
              "      <th>2</th>\n",
              "      <td>Sheriff David Clarke Becomes An Internet Joke...</td>\n",
              "      <td>On Friday, it was revealed that former Milwauk...</td>\n",
              "      <td>0</td>\n",
              "    </tr>\n",
              "    <tr>\n",
              "      <th>3</th>\n",
              "      <td>Trump Is So Obsessed He Even Has Obama’s Name...</td>\n",
              "      <td>On Christmas day, Donald Trump announced that ...</td>\n",
              "      <td>0</td>\n",
              "    </tr>\n",
              "    <tr>\n",
              "      <th>4</th>\n",
              "      <td>Pope Francis Just Called Out Donald Trump Dur...</td>\n",
              "      <td>Pope Francis used his annual Christmas Day mes...</td>\n",
              "      <td>0</td>\n",
              "    </tr>\n",
              "    <tr>\n",
              "      <th>...</th>\n",
              "      <td>...</td>\n",
              "      <td>...</td>\n",
              "      <td>...</td>\n",
              "    </tr>\n",
              "    <tr>\n",
              "      <th>44893</th>\n",
              "      <td>'Fully committed' NATO backs new U.S. approach...</td>\n",
              "      <td>BRUSSELS (Reuters) - NATO allies on Tuesday we...</td>\n",
              "      <td>1</td>\n",
              "    </tr>\n",
              "    <tr>\n",
              "      <th>44894</th>\n",
              "      <td>LexisNexis withdrew two products from Chinese ...</td>\n",
              "      <td>LONDON (Reuters) - LexisNexis, a provider of l...</td>\n",
              "      <td>1</td>\n",
              "    </tr>\n",
              "    <tr>\n",
              "      <th>44895</th>\n",
              "      <td>Minsk cultural hub becomes haven from authorities</td>\n",
              "      <td>MINSK (Reuters) - In the shadow of disused Sov...</td>\n",
              "      <td>1</td>\n",
              "    </tr>\n",
              "    <tr>\n",
              "      <th>44896</th>\n",
              "      <td>Vatican upbeat on possibility of Pope Francis ...</td>\n",
              "      <td>MOSCOW (Reuters) - Vatican Secretary of State ...</td>\n",
              "      <td>1</td>\n",
              "    </tr>\n",
              "    <tr>\n",
              "      <th>44897</th>\n",
              "      <td>Indonesia to buy $1.14 billion worth of Russia...</td>\n",
              "      <td>JAKARTA (Reuters) - Indonesia will buy 11 Sukh...</td>\n",
              "      <td>1</td>\n",
              "    </tr>\n",
              "  </tbody>\n",
              "</table>\n",
              "<p>44898 rows × 3 columns</p>\n",
              "</div>\n",
              "      <button class=\"colab-df-convert\" onclick=\"convertToInteractive('df-6acc3c12-67b2-4011-b1eb-2b81c5533906')\"\n",
              "              title=\"Convert this dataframe to an interactive table.\"\n",
              "              style=\"display:none;\">\n",
              "        \n",
              "  <svg xmlns=\"http://www.w3.org/2000/svg\" height=\"24px\"viewBox=\"0 0 24 24\"\n",
              "       width=\"24px\">\n",
              "    <path d=\"M0 0h24v24H0V0z\" fill=\"none\"/>\n",
              "    <path d=\"M18.56 5.44l.94 2.06.94-2.06 2.06-.94-2.06-.94-.94-2.06-.94 2.06-2.06.94zm-11 1L8.5 8.5l.94-2.06 2.06-.94-2.06-.94L8.5 2.5l-.94 2.06-2.06.94zm10 10l.94 2.06.94-2.06 2.06-.94-2.06-.94-.94-2.06-.94 2.06-2.06.94z\"/><path d=\"M17.41 7.96l-1.37-1.37c-.4-.4-.92-.59-1.43-.59-.52 0-1.04.2-1.43.59L10.3 9.45l-7.72 7.72c-.78.78-.78 2.05 0 2.83L4 21.41c.39.39.9.59 1.41.59.51 0 1.02-.2 1.41-.59l7.78-7.78 2.81-2.81c.8-.78.8-2.07 0-2.86zM5.41 20L4 18.59l7.72-7.72 1.47 1.35L5.41 20z\"/>\n",
              "  </svg>\n",
              "      </button>\n",
              "      \n",
              "  <style>\n",
              "    .colab-df-container {\n",
              "      display:flex;\n",
              "      flex-wrap:wrap;\n",
              "      gap: 12px;\n",
              "    }\n",
              "\n",
              "    .colab-df-convert {\n",
              "      background-color: #E8F0FE;\n",
              "      border: none;\n",
              "      border-radius: 50%;\n",
              "      cursor: pointer;\n",
              "      display: none;\n",
              "      fill: #1967D2;\n",
              "      height: 32px;\n",
              "      padding: 0 0 0 0;\n",
              "      width: 32px;\n",
              "    }\n",
              "\n",
              "    .colab-df-convert:hover {\n",
              "      background-color: #E2EBFA;\n",
              "      box-shadow: 0px 1px 2px rgba(60, 64, 67, 0.3), 0px 1px 3px 1px rgba(60, 64, 67, 0.15);\n",
              "      fill: #174EA6;\n",
              "    }\n",
              "\n",
              "    [theme=dark] .colab-df-convert {\n",
              "      background-color: #3B4455;\n",
              "      fill: #D2E3FC;\n",
              "    }\n",
              "\n",
              "    [theme=dark] .colab-df-convert:hover {\n",
              "      background-color: #434B5C;\n",
              "      box-shadow: 0px 1px 3px 1px rgba(0, 0, 0, 0.15);\n",
              "      filter: drop-shadow(0px 1px 2px rgba(0, 0, 0, 0.3));\n",
              "      fill: #FFFFFF;\n",
              "    }\n",
              "  </style>\n",
              "\n",
              "      <script>\n",
              "        const buttonEl =\n",
              "          document.querySelector('#df-6acc3c12-67b2-4011-b1eb-2b81c5533906 button.colab-df-convert');\n",
              "        buttonEl.style.display =\n",
              "          google.colab.kernel.accessAllowed ? 'block' : 'none';\n",
              "\n",
              "        async function convertToInteractive(key) {\n",
              "          const element = document.querySelector('#df-6acc3c12-67b2-4011-b1eb-2b81c5533906');\n",
              "          const dataTable =\n",
              "            await google.colab.kernel.invokeFunction('convertToInteractive',\n",
              "                                                     [key], {});\n",
              "          if (!dataTable) return;\n",
              "\n",
              "          const docLinkHtml = 'Like what you see? Visit the ' +\n",
              "            '<a target=\"_blank\" href=https://colab.research.google.com/notebooks/data_table.ipynb>data table notebook</a>'\n",
              "            + ' to learn more about interactive tables.';\n",
              "          element.innerHTML = '';\n",
              "          dataTable['output_type'] = 'display_data';\n",
              "          await google.colab.output.renderOutput(dataTable, element);\n",
              "          const docLink = document.createElement('div');\n",
              "          docLink.innerHTML = docLinkHtml;\n",
              "          element.appendChild(docLink);\n",
              "        }\n",
              "      </script>\n",
              "    </div>\n",
              "  </div>\n",
              "  "
            ]
          },
          "metadata": {},
          "execution_count": 12
        }
      ]
    },
    {
      "cell_type": "code",
      "source": [
        "news_df['text'] = news_df['title'] + news_df['text']\n",
        "news_df.drop('title', axis=1, inplace=True)"
      ],
      "metadata": {
        "id": "w_FH5kAzXOGK"
      },
      "execution_count": null,
      "outputs": []
    },
    {
      "cell_type": "markdown",
      "source": [
        "# Split data into train and test set"
      ],
      "metadata": {
        "id": "Z9DnZFzBBLQI"
      }
    },
    {
      "cell_type": "code",
      "source": [
        "features = news_df['text']\n",
        "targets = news_df['class']\n",
        "\n",
        "X_train, X_test, y_train, y_test = train_test_split(features, targets, test_size=0.20, random_state=18)"
      ],
      "metadata": {
        "id": "prbCzBONXOV3"
      },
      "execution_count": null,
      "outputs": []
    },
    {
      "cell_type": "markdown",
      "source": [
        "# Data Cleaning"
      ],
      "metadata": {
        "id": "bwjD5ElkBFpA"
      }
    },
    {
      "cell_type": "code",
      "source": [
        "def normalize(data):\n",
        "    normalized = []\n",
        "    for i in data:\n",
        "        i = i.lower()\n",
        "        # get rid of urls\n",
        "        i = re.sub('https?://\\S+|www\\.\\S+', '', i)\n",
        "        # get rid of non words and extra spaces\n",
        "        i = re.sub('\\\\W', ' ', i)\n",
        "        i = re.sub('\\n', '', i)\n",
        "        i = re.sub(' +', ' ', i)\n",
        "        i = re.sub('^ ', '', i)\n",
        "        i = re.sub(' $', '', i)\n",
        "        normalized.append(i)\n",
        "    return normalized\n",
        "\n",
        "X_train = normalize(X_train)\n",
        "X_test = normalize(X_test)"
      ],
      "metadata": {
        "id": "49vaAf6bXOmA"
      },
      "execution_count": null,
      "outputs": []
    },
    {
      "cell_type": "markdown",
      "source": [
        "# Convert data into vectors"
      ],
      "metadata": {
        "id": "1OIDSDcOBQAC"
      }
    },
    {
      "cell_type": "code",
      "source": [
        "max_vocab = 10000\n",
        "tokenizer = Tokenizer(num_words=max_vocab)\n",
        "tokenizer.fit_on_texts(X_train)"
      ],
      "metadata": {
        "id": "SGn6x9CWXO14"
      },
      "execution_count": null,
      "outputs": []
    },
    {
      "cell_type": "code",
      "source": [
        "# tokenize the text into vectors \n",
        "X_train = tokenizer.texts_to_sequences(X_train)\n",
        "X_test = tokenizer.texts_to_sequences(X_test)"
      ],
      "metadata": {
        "id": "-JXoHWOKXPJZ"
      },
      "execution_count": null,
      "outputs": []
    },
    {
      "cell_type": "code",
      "source": [
        "X_train = tf.keras.preprocessing.sequence.pad_sequences(X_train, padding='post', maxlen=256)\n",
        "X_test = tf.keras.preprocessing.sequence.pad_sequences(X_test, padding='post', maxlen=256)"
      ],
      "metadata": {
        "id": "Mm0j39j_XPh9"
      },
      "execution_count": null,
      "outputs": []
    },
    {
      "cell_type": "markdown",
      "source": [
        "# Build the model"
      ],
      "metadata": {
        "id": "MjVIKNmuBS9w"
      }
    },
    {
      "cell_type": "code",
      "source": [
        "model = tf.keras.Sequential([\n",
        "    tf.keras.layers.Embedding(max_vocab, 128),\n",
        "    tf.keras.layers.Bidirectional(tf.keras.layers.LSTM(64,  return_sequences=True)),\n",
        "    tf.keras.layers.Bidirectional(tf.keras.layers.LSTM(16)),\n",
        "    tf.keras.layers.Dense(64, activation='relu'),\n",
        "    tf.keras.layers.Dropout(0.5),\n",
        "    tf.keras.layers.Dense(1)\n",
        "])\n",
        "\n",
        "model.summary()"
      ],
      "metadata": {
        "colab": {
          "base_uri": "https://localhost:8080/"
        },
        "id": "BZL6XOBPXZ0z",
        "outputId": "0b8264c7-ee72-46d4-f12f-22d13db290a5"
      },
      "execution_count": null,
      "outputs": [
        {
          "output_type": "stream",
          "name": "stdout",
          "text": [
            "Model: \"sequential\"\n",
            "_________________________________________________________________\n",
            " Layer (type)                Output Shape              Param #   \n",
            "=================================================================\n",
            " embedding (Embedding)       (None, None, 128)         1280000   \n",
            "                                                                 \n",
            " bidirectional (Bidirectiona  (None, None, 128)        98816     \n",
            " l)                                                              \n",
            "                                                                 \n",
            " bidirectional_1 (Bidirectio  (None, 32)               18560     \n",
            " nal)                                                            \n",
            "                                                                 \n",
            " dense (Dense)               (None, 64)                2112      \n",
            "                                                                 \n",
            " dropout (Dropout)           (None, 64)                0         \n",
            "                                                                 \n",
            " dense_1 (Dense)             (None, 1)                 65        \n",
            "                                                                 \n",
            "=================================================================\n",
            "Total params: 1,399,553\n",
            "Trainable params: 1,399,553\n",
            "Non-trainable params: 0\n",
            "_________________________________________________________________\n"
          ]
        }
      ]
    },
    {
      "cell_type": "markdown",
      "source": [
        "# Train the model"
      ],
      "metadata": {
        "id": "zuikYkJEBWQs"
      }
    },
    {
      "cell_type": "code",
      "source": [
        "early_stop = tf.keras.callbacks.EarlyStopping(monitor='val_loss', patience=2, restore_best_weights=True)\n",
        "model.compile(loss=tf.keras.losses.BinaryCrossentropy(from_logits=True),\n",
        "              optimizer=tf.keras.optimizers.Adam(1e-4),\n",
        "              metrics=['accuracy'])\n",
        "\n",
        "history = model.fit(X_train, y_train, epochs=10,validation_split=0.1, batch_size=30, shuffle=True, callbacks=[early_stop])"
      ],
      "metadata": {
        "colab": {
          "base_uri": "https://localhost:8080/"
        },
        "id": "d85J1bCZXaD4",
        "outputId": "17fa2870-d983-4a67-d1c7-ab9c4d100ff5"
      },
      "execution_count": null,
      "outputs": [
        {
          "output_type": "stream",
          "name": "stdout",
          "text": [
            "Epoch 1/10\n",
            "1078/1078 [==============================] - 502s 459ms/step - loss: 0.3099 - accuracy: 0.8401 - val_loss: 0.0650 - val_accuracy: 0.9797\n",
            "Epoch 2/10\n",
            "1078/1078 [==============================] - 490s 455ms/step - loss: 0.0718 - accuracy: 0.9826 - val_loss: 0.3330 - val_accuracy: 0.9282\n",
            "Epoch 3/10\n",
            "1078/1078 [==============================] - 490s 454ms/step - loss: 0.0594 - accuracy: 0.9853 - val_loss: 0.0485 - val_accuracy: 0.9855\n",
            "Epoch 4/10\n",
            "1078/1078 [==============================] - 493s 457ms/step - loss: 0.0266 - accuracy: 0.9939 - val_loss: 0.0410 - val_accuracy: 0.9889\n",
            "Epoch 5/10\n",
            "1078/1078 [==============================] - 491s 455ms/step - loss: 0.0398 - accuracy: 0.9896 - val_loss: 0.0819 - val_accuracy: 0.9769\n",
            "Epoch 6/10\n",
            "1078/1078 [==============================] - 491s 456ms/step - loss: 0.0271 - accuracy: 0.9942 - val_loss: 0.0284 - val_accuracy: 0.9930\n",
            "Epoch 7/10\n",
            "1078/1078 [==============================] - 489s 454ms/step - loss: 0.0640 - accuracy: 0.9818 - val_loss: 0.0552 - val_accuracy: 0.9791\n",
            "Epoch 8/10\n",
            "1078/1078 [==============================] - 491s 455ms/step - loss: 0.0304 - accuracy: 0.9920 - val_loss: 0.0402 - val_accuracy: 0.9880\n"
          ]
        }
      ]
    },
    {
      "cell_type": "markdown",
      "source": [
        "# Visualize model performance"
      ],
      "metadata": {
        "id": "htbC5QZ5BcaB"
      }
    },
    {
      "cell_type": "code",
      "source": [
        "history_dict = history.history\n",
        "\n",
        "acc = history_dict['accuracy']\n",
        "val_acc = history_dict['val_accuracy']\n",
        "loss = history_dict['loss']\n",
        "val_loss = history_dict['val_loss']\n",
        "epochs = history.epoch\n",
        "\n",
        "plt.figure(figsize=(12,9))\n",
        "plt.plot(epochs, loss, 'r', label='Training loss')\n",
        "plt.plot(epochs, val_loss, 'b', label='Validation loss')\n",
        "plt.title('Training and validation loss', size=20)\n",
        "plt.xlabel('Epochs', size=20)\n",
        "plt.ylabel('Loss', size=20)\n",
        "plt.legend(prop={'size': 20})\n",
        "plt.show()\n",
        "\n",
        "plt.figure(figsize=(12,9))\n",
        "plt.plot(epochs, acc, 'g', label='Training acc')\n",
        "plt.plot(epochs, val_acc, 'b', label='Validation acc')\n",
        "plt.title('Training and validation accuracy', size=20)\n",
        "plt.xlabel('Epochs', size=20)\n",
        "plt.ylabel('Accuracy', size=20)\n",
        "plt.legend(prop={'size': 20})\n",
        "plt.ylim((0.5,1))\n",
        "plt.show()"
      ],
      "metadata": {
        "colab": {
          "base_uri": "https://localhost:8080/",
          "height": 1000
        },
        "id": "thE6ogs1XaSw",
        "outputId": "dab6fe20-0c7f-4e0d-d56e-ad44e3a1cbed"
      },
      "execution_count": null,
      "outputs": [
        {
          "output_type": "display_data",
          "data": {
            "text/plain": [
              "<Figure size 864x648 with 1 Axes>"
            ],
            "image/png": "[encoded data removed]"
          },
          "metadata": {
            "needs_background": "light"
          }
        },
        {
          "output_type": "display_data",
          "data": {
            "text/plain": [
              "<Figure size 864x648 with 1 Axes>"
            ],
            "image/png": "[encoded data removed]"
          },
          "metadata": {
            "needs_background": "light"
          }
        }
      ]
    },
    {
      "cell_type": "code",
      "source": [
        "model.evaluate(X_test, y_test)"
      ],
      "metadata": {
        "colab": {
          "base_uri": "https://localhost:8080/"
        },
        "id": "io6eAp-bXahu",
        "outputId": "36dcb965-69fa-4c32-d5ea-9bde6ba20b09"
      },
      "execution_count": null,
      "outputs": [
        {
          "output_type": "stream",
          "name": "stdout",
          "text": [
            "281/281 [==============================] - 26s 93ms/step - loss: 0.0424 - accuracy: 0.9889\n"
          ]
        },
        {
          "output_type": "execute_result",
          "data": {
            "text/plain": [
              "[0.0424230694770813, 0.9888641238212585]"
            ]
          },
          "metadata": {},
          "execution_count": 22
        }
      ]
    },
    {
      "cell_type": "markdown",
      "source": [
        "# Measure model accuracy"
      ],
      "metadata": {
        "id": "rkyvKUiOBiBQ"
      }
    },
    {
      "cell_type": "code",
      "source": [
        "pred = model.predict(X_test)\n",
        "\n",
        "binary_predictions = []\n",
        "\n",
        "for i in pred:\n",
        "    if i >= 0.5:\n",
        "        binary_predictions.append(1)\n",
        "    else:\n",
        "        binary_predictions.append(0) "
      ],
      "metadata": {
        "id": "LDWTNZ4KXawd"
      },
      "execution_count": null,
      "outputs": []
    },
    {
      "cell_type": "code",
      "source": [
        "print('Accuracy on testing set:', accuracy_score(binary_predictions, y_test))\n",
        "print('Precision on testing set:', precision_score(binary_predictions, y_test))\n",
        "print('Recall on testing set:', recall_score(binary_predictions, y_test))"
      ],
      "metadata": {
        "colab": {
          "base_uri": "https://localhost:8080/"
        },
        "id": "SR8DdXc4Xa_2",
        "outputId": "6d0d97db-29a9-429b-f2bc-4fa94a601404"
      },
      "execution_count": null,
      "outputs": [
        {
          "output_type": "stream",
          "name": "stdout",
          "text": [
            "Accuracy on testing set: 0.9888641425389755\n",
            "Precision on testing set: 0.9905048633626679\n",
            "Recall on testing set: 0.9863929889298892\n"
          ]
        }
      ]
    }
  ]
}